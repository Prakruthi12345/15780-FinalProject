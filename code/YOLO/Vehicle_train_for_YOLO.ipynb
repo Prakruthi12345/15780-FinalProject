{
  "cells": [
    {
      "cell_type": "code",
      "execution_count": 1,
      "metadata": {
        "id": "GFloAG8p9fhq"
      },
      "outputs": [],
      "source": [
        "import pandas as pd\n",
        "import torch.nn as nn\n",
        "import torch\n",
        "import matplotlib.pyplot as plt\n",
        "import numpy as np\n",
        "from torch.utils.data import DataLoader, TensorDataset, random_split\n",
        "from tqdm import tqdm\n"
      ]
    },
    {
      "cell_type": "code",
      "execution_count": 6,
      "metadata": {
        "id": "60kwSo2z9fhs"
      },
      "outputs": [],
      "source": [
        "class TimeSeriesTransformer(nn.Module):\n",
        "    def __init__(self, input_dim, d_model, nhead, num_encoder_layers, dim_feedforward, seq_len, dropout=0.1):\n",
        "        super(TimeSeriesTransformer, self).__init__()\n",
        "        self.d_model = d_model\n",
        "        self.seq_len = seq_len\n",
        "        self.embedding = nn.Linear(input_dim, d_model)\n",
        "\n",
        "        encoder_layer = nn.TransformerEncoderLayer(\n",
        "            d_model=d_model,\n",
        "            nhead=nhead,\n",
        "            dim_feedforward=dim_feedforward,\n",
        "            dropout=dropout,\n",
        "            batch_first=True\n",
        "        )\n",
        "        self.transformer_encoder = nn.TransformerEncoder(encoder_layer, num_layers=num_encoder_layers)\n",
        "\n",
        "        self.positional_encoding = self._generate_positional_encoding(d_model)\n",
        "        self.output_layer = nn.Linear(d_model, 1)  # predicting two values: v_Vel and v_Acc\n",
        "\n",
        "    def forward(self, src):\n",
        "        src = self.embedding(src) * torch.sqrt(torch.tensor(self.d_model))\n",
        "        pe = self._generate_positional_encoding(src.size(0))  # generate positional encoding dynamically\n",
        "        src += pe\n",
        "        output = self.transformer_encoder(src)\n",
        "        output = self.output_layer(output[:, -1, :])\n",
        "        return output\n",
        "\n",
        "    def _generate_positional_encoding(self, batch_size):\n",
        "        position = torch.arange(0, self.seq_len, dtype=torch.float).unsqueeze(1)\n",
        "        div_term = torch.exp(torch.arange(0, self.d_model, 2).float() * (-torch.log(torch.tensor(10000.0)) / self.d_model))\n",
        "        pe = torch.zeros(self.seq_len, self.d_model)\n",
        "        pe[:, 0::2] = torch.sin(position * div_term)\n",
        "        pe[:, 1::2] = torch.cos(position * div_term)\n",
        "        pe = pe.unsqueeze(0).repeat(batch_size, 1, 1)\n",
        "        return pe\n",
        "\n",
        "input_dim = 3  # The number of input features\n",
        "nhead = 8  # The number of heads in the multi-head attention models\n",
        "num_encoder_layers = 6  # The number of sub-encoder-layers in the encoder\n",
        "dim_feedforward = 2048  # The dimension of the feedforward network model\n",
        "dropout = 0.1  # The dropout value\n",
        "sequence_length=10\n",
        "# Ensure d_model is divisible by nhead\n",
        "d_model = 8 * nhead\n",
        "\n",
        "model_transformer = TimeSeriesTransformer(\n",
        "    input_dim=input_dim,\n",
        "    d_model=d_model,\n",
        "    nhead=nhead,\n",
        "    num_encoder_layers=num_encoder_layers,\n",
        "    dim_feedforward=dim_feedforward,\n",
        "    dropout=dropout,\n",
        "    seq_len=sequence_length\n",
        ")\n"
      ]
    },
    {
      "cell_type": "markdown",
      "metadata": {
        "id": "6Vb8qKzU9fht"
      },
      "source": [
        "LSTM"
      ]
    },
    {
      "cell_type": "code",
      "execution_count": 31,
      "metadata": {
        "id": "iDzQhrpN9fh4"
      },
      "outputs": [],
      "source": [
        "device = torch.device('cuda' if torch.cuda.is_available() else 'cpu')\n",
        "class LSTM(nn.Module):\n",
        "    def __init__(self, input_size, hidden_size, num_layers, output_size):\n",
        "        super(LSTM, self).__init__()\n",
        "        self.hidden_size = hidden_size\n",
        "        self.num_layers = num_layers\n",
        "\n",
        "        self.lstm = nn.LSTM(input_size, hidden_size, num_layers, batch_first=True)\n",
        "        self.fc = nn.Linear(hidden_size, output_size)\n",
        "\n",
        "    def forward(self, x):\n",
        "        h0 = torch.zeros(self.num_layers, x.size(0), self.hidden_size).to(device)\n",
        "        c0 = torch.zeros(self.num_layers, x.size(0), self.hidden_size).to(device)\n",
        "\n",
        "        out, _ = self.lstm(x, (h0, c0))\n",
        "        out = self.fc(out[:, -1, :])\n",
        "        return out\n",
        "\n",
        "input_size=3\n",
        "hidden_size = 64\n",
        "num_layers = 2\n",
        "output_size = 1\n",
        "num_epochs = 100\n",
        "learning_rate = 0.001\n",
        "\n",
        "model_lstm = LSTM(input_size, hidden_size, num_layers, output_size).to(device)"
      ]
    },
    {
      "cell_type": "code",
      "execution_count": 47,
      "metadata": {
        "id": "VWWZzfK89fh6"
      },
      "outputs": [],
      "source": [
        "model = model_transformer\n",
        "#model = model_lstm"
      ]
    },
    {
      "cell_type": "code",
      "source": [
        "model_l = model_lstm"
      ],
      "metadata": {
        "id": "gOluezK778LQ"
      },
      "execution_count": 42,
      "outputs": []
    },
    {
      "cell_type": "code",
      "execution_count": 48,
      "metadata": {
        "id": "B-B2_9qR9fh7",
        "outputId": "789965a7-8da9-4095-d678-eb577dd9cfd0",
        "colab": {
          "base_uri": "https://localhost:8080/"
        }
      },
      "outputs": [
        {
          "output_type": "execute_result",
          "data": {
            "text/plain": [
              "<All keys matched successfully>"
            ]
          },
          "metadata": {},
          "execution_count": 48
        }
      ],
      "source": [
        "model.load_state_dict(torch.load('model_weights_single.pth'))"
      ]
    },
    {
      "cell_type": "code",
      "source": [
        "model_l.load_state_dict(torch.load('model_weights_lstm.pth'))"
      ],
      "metadata": {
        "colab": {
          "base_uri": "https://localhost:8080/"
        },
        "id": "hO6jabae7_0J",
        "outputId": "1a6362d5-4a62-4829-e7df-462c226a47d4"
      },
      "execution_count": 43,
      "outputs": [
        {
          "output_type": "execute_result",
          "data": {
            "text/plain": [
              "<All keys matched successfully>"
            ]
          },
          "metadata": {},
          "execution_count": 43
        }
      ]
    },
    {
      "cell_type": "markdown",
      "metadata": {
        "id": "bl_GZzdP9fh7"
      },
      "source": [
        "TEST ON ANY DATASET"
      ]
    },
    {
      "cell_type": "code",
      "source": [
        "def create_sequences(input_data, target_data, sequence_length):\n",
        "    sequences = []\n",
        "    targets = []\n",
        "    for i in range(len(input_data) - sequence_length):\n",
        "        seq = input_data[i:i+sequence_length]  # Sequence of features\n",
        "        target = target_data[i+sequence_length]  # Next step's features\n",
        "        sequences.append(seq)\n",
        "        targets.append(target)\n",
        "    return np.array(sequences), np.array(targets)"
      ],
      "metadata": {
        "id": "QJbHQ5sj-V7D"
      },
      "execution_count": 27,
      "outputs": []
    },
    {
      "cell_type": "code",
      "source": [
        "# load data for YOLO testing\n",
        "data = pd.read_csv(\"final_I80_single_next.csv\")\n",
        "#data = pd.read_csv(\"final_101_single.csv\")\n",
        "#data = pd.read_csv(\"final_Peach_single_next.csv\")\n",
        "#data = pd.read_csv(\"final_LB_single.csv\")\n",
        "\n",
        "batch_size = 64\n",
        "\n",
        "# Normalize the data (example)\n",
        "normalized_data = (data - data.mean()) / data.std()\n",
        "\n",
        "feature_columns = ['x','y','vel']\n",
        "target_columns = ['vel']\n",
        "\n",
        "# Create sequences\n",
        "sequence_length = 10  # For example, using the last 10 timesteps to predict the next\n",
        "\n",
        "# Convert DataFrame to numpy and split features and target\n",
        "feature_data = normalized_data[feature_columns].values\n",
        "target_data = normalized_data[target_columns].values\n",
        "\n",
        "sequences, targets = create_sequences(feature_data, target_data, sequence_length)\n",
        "\n",
        "test_sequences, test_targets = sequences, targets\n",
        "\n",
        "test_sequences = torch.tensor(test_sequences, dtype=torch.float16)\n",
        "test_targets = torch.tensor(test_targets, dtype=torch.float16)\n",
        "\n",
        "vehicle_data = TensorDataset(test_sequences, test_targets)\n",
        "vehicle_loader = DataLoader(vehicle_data, batch_size=batch_size, shuffle=False)"
      ],
      "metadata": {
        "id": "9BOx_GDl6orO"
      },
      "execution_count": 67,
      "outputs": []
    },
    {
      "cell_type": "code",
      "execution_count": 72,
      "metadata": {
        "id": "tFcQ2-JE9fh8",
        "outputId": "4352cdea-466c-415a-dd56-913e680fe74c",
        "colab": {
          "base_uri": "https://localhost:8080/"
        }
      },
      "outputs": [
        {
          "output_type": "stream",
          "name": "stdout",
          "text": [
            "Test Loss: 1.2257\n"
          ]
        }
      ],
      "source": [
        "loss_function = torch.nn.MSELoss()  # Mean Squared Error Loss for regression tasks\n",
        "optimizer = torch.optim.Adam(model.parameters(), lr=1e-4)  # Adam optimizer\n",
        "\n",
        "# Evaluate on test data\n",
        "def evaluate(model, test_loader, loss_function):\n",
        "    model.eval()  # Set the model to evaluation mode\n",
        "    test_losses = []\n",
        "    with torch.no_grad():  # No gradients required for testing\n",
        "        for seq, target in test_loader:\n",
        "            seq, target = seq.float(), target.float()\n",
        "            output = model_l(seq)\n",
        "            loss = loss_function(output, target)\n",
        "            test_losses.append(loss.item())\n",
        "    return np.mean(test_losses)\n",
        "\n",
        "test_loss = evaluate(model, vehicle_loader, loss_function)\n",
        "print(f'Test Loss: {test_loss:.4f}')"
      ]
    },
    {
      "cell_type": "code",
      "execution_count": 73,
      "metadata": {
        "id": "oTbvGvWk9fh8",
        "outputId": "8d0e6a73-488e-46bc-c147-2b9bc9bff5e6",
        "colab": {
          "base_uri": "https://localhost:8080/",
          "height": 487
        }
      },
      "outputs": [
        {
          "output_type": "display_data",
          "data": {
            "text/plain": [
              "<Figure size 1000x500 with 1 Axes>"
            ],
            "image/png": "[encoded data removed]"
          },
          "metadata": {}
        }
      ],
      "source": [
        "actuals, predictions = [], []\n",
        "\n",
        "# Function to predict and visualize the results\n",
        "def plot_predictions(model, loader):\n",
        "    model.eval()\n",
        "    with torch.no_grad():\n",
        "        for seq, target in loader:\n",
        "            seq, target = seq.float(), target.float()\n",
        "            output = model_l(seq)\n",
        "            actuals.extend(target.numpy())\n",
        "            predictions.extend(output.numpy())\n",
        "\n",
        "    # Plotting the first few sequences\n",
        "    plt.figure(figsize=(10, 5))\n",
        "    plt.plot(actuals, label='Actual')\n",
        "    plt.plot(predictions, label='Predicted')\n",
        "    plt.title('Comparison of Actual and Predicted Values')\n",
        "    plt.xlabel('Time Step')\n",
        "    plt.ylabel('Values')\n",
        "    plt.legend()\n",
        "    plt.show()\n",
        "\n",
        "plot_predictions(model, vehicle_loader)"
      ]
    }
  ],
  "metadata": {
    "kernelspec": {
      "display_name": "Python 3",
      "language": "python",
      "name": "python3"
    },
    "language_info": {
      "codemirror_mode": {
        "name": "ipython",
        "version": 3
      },
      "file_extension": ".py",
      "mimetype": "text/x-python",
      "name": "python",
      "nbconvert_exporter": "python",
      "pygments_lexer": "ipython3",
      "version": "3.11.6"
    },
    "colab": {
      "provenance": []
    }
  },
  "nbformat": 4,
  "nbformat_minor": 0
}
